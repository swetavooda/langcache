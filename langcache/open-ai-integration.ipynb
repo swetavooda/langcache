{
 "cells": [
  {
   "cell_type": "code",
   "execution_count": 1,
   "metadata": {},
   "outputs": [],
   "source": [
    "# Import dependencies\n",
    "import os"
   ]
  },
  {
   "cell_type": "code",
   "execution_count": 4,
   "metadata": {},
   "outputs": [],
   "source": [
    "# get OpenAI key if needed\n",
    "from openai import OpenAIError\n",
    "\n",
    "try:\n",
    "    api_key = os.environ[\"OPENAI_API_KEY\"]\n",
    "except OpenAIError:\n",
    "    api_key = str(input(\"🔑 Enter your OpenAI key: \"))\n",
    "    os.environ[\"OPENAI_API_KEY\"] = api_key"
   ]
  },
  {
   "cell_type": "code",
   "execution_count": 5,
   "metadata": {},
   "outputs": [
    {
     "name": "stdout",
     "output_type": "stream",
     "text": [
      "Hello this is custom OpenAI Implementation using langcache\n",
      "CACHE_MISS\n"
     ]
    },
    {
     "name": "stderr",
     "output_type": "stream",
     "text": [
      "/Users/swetavooda/workspace/langCache/langcache/langcache-venv/lib/python3.11/site-packages/sentence_transformers/SentenceTransformer.py:157: FutureWarning: Series.__getitem__ treating keys as positions is deprecated. In a future version, integer keys will always be treated as labels (consistent with DataFrame behavior). To access a value by position, use `ser.iloc[pos]`\n",
      "  sentences_sorted = [sentences[idx] for idx in length_sorted_idx]\n"
     ]
    },
    {
     "name": "stdout",
     "output_type": "stream",
     "text": [
      "QUESTION:  What is GitHub?\n",
      "GitHub is a web-based platform for version control and collaboration on software projects.\n",
      "Time taken:  3.0100910663604736\n",
      "\n",
      "\n",
      "\n"
     ]
    },
    {
     "name": "stderr",
     "output_type": "stream",
     "text": [
      "/Users/swetavooda/workspace/langCache/langcache/langcache-venv/lib/python3.11/site-packages/sentence_transformers/SentenceTransformer.py:157: FutureWarning: Series.__getitem__ treating keys as positions is deprecated. In a future version, integer keys will always be treated as labels (consistent with DataFrame behavior). To access a value by position, use `ser.iloc[pos]`\n",
      "  sentences_sorted = [sentences[idx] for idx in length_sorted_idx]\n"
     ]
    },
    {
     "name": "stdout",
     "output_type": "stream",
     "text": [
      "TUNE FREQUENCY =  0\n",
      "***DYNAMIC TUNING OF THRESHOLD***\n",
      "THRESHOLD =  0\n",
      "CACHE_MISS\n",
      "CACHE_MISS\n"
     ]
    },
    {
     "name": "stderr",
     "output_type": "stream",
     "text": [
      "11-25-2023 21:33:25 WARNING[create_index_executor:create_index_executor.py:_create_evadb_index:0119] Index ehmbsglyip already exists. It will be updated on existing table.\n",
      "/Users/swetavooda/workspace/langCache/langcache/langcache-venv/lib/python3.11/site-packages/sentence_transformers/SentenceTransformer.py:157: FutureWarning: Series.__getitem__ treating keys as positions is deprecated. In a future version, integer keys will always be treated as labels (consistent with DataFrame behavior). To access a value by position, use `ser.iloc[pos]`\n",
      "  sentences_sorted = [sentences[idx] for idx in length_sorted_idx]\n"
     ]
    },
    {
     "name": "stdout",
     "output_type": "stream",
     "text": [
      "QUESTION:  what are the most important concepts in databases\n",
      "Tables, relationships, normalization, queries, indexes, ACID properties, data integrity, and data modeling are important database concepts.\n",
      "Time taken:  3.917994976043701\n",
      "\n",
      "\n",
      "\n"
     ]
    },
    {
     "name": "stderr",
     "output_type": "stream",
     "text": [
      "/Users/swetavooda/workspace/langCache/langcache/langcache-venv/lib/python3.11/site-packages/sentence_transformers/SentenceTransformer.py:157: FutureWarning: Series.__getitem__ treating keys as positions is deprecated. In a future version, integer keys will always be treated as labels (consistent with DataFrame behavior). To access a value by position, use `ser.iloc[pos]`\n",
      "  sentences_sorted = [sentences[idx] for idx in length_sorted_idx]\n"
     ]
    },
    {
     "name": "stdout",
     "output_type": "stream",
     "text": [
      "TUNE FREQUENCY =  1\n",
      "THRESHOLD =  0\n",
      "CACHE_MISS\n",
      "CACHE_MISS\n"
     ]
    },
    {
     "name": "stderr",
     "output_type": "stream",
     "text": [
      "11-25-2023 21:33:28 WARNING[create_index_executor:create_index_executor.py:_create_evadb_index:0119] Index ehmbsglyip already exists. It will be updated on existing table.\n",
      "/Users/swetavooda/workspace/langCache/langcache/langcache-venv/lib/python3.11/site-packages/sentence_transformers/SentenceTransformer.py:157: FutureWarning: Series.__getitem__ treating keys as positions is deprecated. In a future version, integer keys will always be treated as labels (consistent with DataFrame behavior). To access a value by position, use `ser.iloc[pos]`\n",
      "  sentences_sorted = [sentences[idx] for idx in length_sorted_idx]\n"
     ]
    },
    {
     "name": "stdout",
     "output_type": "stream",
     "text": [
      "QUESTION:  can you explain what GitHub is\n",
      "GitHub is a web-based platform for version control and collaboration used for software development.\n",
      "Time taken:  2.597414970397949\n",
      "\n",
      "\n",
      "\n"
     ]
    },
    {
     "name": "stderr",
     "output_type": "stream",
     "text": [
      "/Users/swetavooda/workspace/langCache/langcache/langcache-venv/lib/python3.11/site-packages/sentence_transformers/SentenceTransformer.py:157: FutureWarning: Series.__getitem__ treating keys as positions is deprecated. In a future version, integer keys will always be treated as labels (consistent with DataFrame behavior). To access a value by position, use `ser.iloc[pos]`\n",
      "  sentences_sorted = [sentences[idx] for idx in length_sorted_idx]\n"
     ]
    },
    {
     "name": "stdout",
     "output_type": "stream",
     "text": [
      "TUNE FREQUENCY =  2\n",
      "THRESHOLD =  0\n",
      "CACHE-HIT\n",
      "CACHE_HIT\n",
      "QUESTION:  What is GitHub?\n",
      "GitHub is a web-based platform for version control and collaboration on software projects.\n",
      "Time taken:  0.6714339256286621\n",
      "\n",
      "\n",
      "\n"
     ]
    },
    {
     "name": "stderr",
     "output_type": "stream",
     "text": [
      "/Users/swetavooda/workspace/langCache/langcache/langcache-venv/lib/python3.11/site-packages/sentence_transformers/SentenceTransformer.py:157: FutureWarning: Series.__getitem__ treating keys as positions is deprecated. In a future version, integer keys will always be treated as labels (consistent with DataFrame behavior). To access a value by position, use `ser.iloc[pos]`\n",
      "  sentences_sorted = [sentences[idx] for idx in length_sorted_idx]\n"
     ]
    },
    {
     "name": "stdout",
     "output_type": "stream",
     "text": [
      "TUNE FREQUENCY =  3\n",
      "THRESHOLD =  0\n",
      "CACHE_MISS\n",
      "CACHE_MISS\n"
     ]
    },
    {
     "name": "stderr",
     "output_type": "stream",
     "text": [
      "11-25-2023 21:33:31 WARNING[create_index_executor:create_index_executor.py:_create_evadb_index:0119] Index ehmbsglyip already exists. It will be updated on existing table.\n",
      "/Users/swetavooda/workspace/langCache/langcache/langcache-venv/lib/python3.11/site-packages/sentence_transformers/SentenceTransformer.py:157: FutureWarning: Series.__getitem__ treating keys as positions is deprecated. In a future version, integer keys will always be treated as labels (consistent with DataFrame behavior). To access a value by position, use `ser.iloc[pos]`\n",
      "  sentences_sorted = [sentences[idx] for idx in length_sorted_idx]\n"
     ]
    },
    {
     "name": "stdout",
     "output_type": "stream",
     "text": [
      "QUESTION:  what is the purpose of GitHub\n",
      "The purpose of GitHub is to provide a platform for version control and collaborative software development.\n",
      "Time taken:  2.425203800201416\n",
      "\n",
      "\n",
      "\n"
     ]
    },
    {
     "name": "stderr",
     "output_type": "stream",
     "text": [
      "/Users/swetavooda/workspace/langCache/langcache/langcache-venv/lib/python3.11/site-packages/sentence_transformers/SentenceTransformer.py:157: FutureWarning: Series.__getitem__ treating keys as positions is deprecated. In a future version, integer keys will always be treated as labels (consistent with DataFrame behavior). To access a value by position, use `ser.iloc[pos]`\n",
      "  sentences_sorted = [sentences[idx] for idx in length_sorted_idx]\n"
     ]
    },
    {
     "name": "stdout",
     "output_type": "stream",
     "text": [
      "TUNE FREQUENCY =  4\n",
      "THRESHOLD =  0\n",
      "CACHE_MISS\n",
      "CACHE_MISS\n"
     ]
    },
    {
     "name": "stderr",
     "output_type": "stream",
     "text": [
      "11-25-2023 21:33:34 WARNING[create_index_executor:create_index_executor.py:_create_evadb_index:0119] Index ehmbsglyip already exists. It will be updated on existing table.\n",
      "/Users/swetavooda/workspace/langCache/langcache/langcache-venv/lib/python3.11/site-packages/sentence_transformers/SentenceTransformer.py:157: FutureWarning: Series.__getitem__ treating keys as positions is deprecated. In a future version, integer keys will always be treated as labels (consistent with DataFrame behavior). To access a value by position, use `ser.iloc[pos]`\n",
      "  sentences_sorted = [sentences[idx] for idx in length_sorted_idx]\n"
     ]
    },
    {
     "name": "stdout",
     "output_type": "stream",
     "text": [
      "QUESTION:  What's github\n",
      "GitHub is a web-based platform for version control and collaboration that hosts code repositories.\n",
      "Time taken:  2.8298540115356445\n",
      "\n",
      "\n",
      "\n"
     ]
    },
    {
     "name": "stderr",
     "output_type": "stream",
     "text": [
      "/Users/swetavooda/workspace/langCache/langcache/langcache-venv/lib/python3.11/site-packages/sentence_transformers/SentenceTransformer.py:157: FutureWarning: Series.__getitem__ treating keys as positions is deprecated. In a future version, integer keys will always be treated as labels (consistent with DataFrame behavior). To access a value by position, use `ser.iloc[pos]`\n",
      "  sentences_sorted = [sentences[idx] for idx in length_sorted_idx]\n"
     ]
    },
    {
     "name": "stdout",
     "output_type": "stream",
     "text": [
      "TUNE FREQUENCY =  5\n",
      "***DYNAMIC TUNING OF THRESHOLD***\n",
      "THRESHOLD =  0.3983773717880249\n",
      "CACHE-HIT\n",
      "CACHE_HIT\n",
      "QUESTION:  What are the important topics to learn in databases?\n",
      "Tables, relationships, normalization, queries, indexes, ACID properties, data integrity, and data modeling are important database concepts.\n",
      "Time taken:  1.4931719303131104\n",
      "\n",
      "\n",
      "\n"
     ]
    },
    {
     "name": "stderr",
     "output_type": "stream",
     "text": [
      "/Users/swetavooda/workspace/langCache/langcache/langcache-venv/lib/python3.11/site-packages/sentence_transformers/SentenceTransformer.py:157: FutureWarning: Series.__getitem__ treating keys as positions is deprecated. In a future version, integer keys will always be treated as labels (consistent with DataFrame behavior). To access a value by position, use `ser.iloc[pos]`\n",
      "  sentences_sorted = [sentences[idx] for idx in length_sorted_idx]\n"
     ]
    },
    {
     "name": "stdout",
     "output_type": "stream",
     "text": [
      "TUNE FREQUENCY =  6\n",
      "THRESHOLD =  0.3983773717880249\n",
      "CACHE_MISS\n",
      "CACHE_MISS\n"
     ]
    },
    {
     "name": "stderr",
     "output_type": "stream",
     "text": [
      "11-25-2023 21:33:38 WARNING[create_index_executor:create_index_executor.py:_create_evadb_index:0119] Index ehmbsglyip already exists. It will be updated on existing table.\n",
      "/Users/swetavooda/workspace/langCache/langcache/langcache-venv/lib/python3.11/site-packages/sentence_transformers/SentenceTransformer.py:157: FutureWarning: Series.__getitem__ treating keys as positions is deprecated. In a future version, integer keys will always be treated as labels (consistent with DataFrame behavior). To access a value by position, use `ser.iloc[pos]`\n",
      "  sentences_sorted = [sentences[idx] for idx in length_sorted_idx]\n"
     ]
    },
    {
     "name": "stdout",
     "output_type": "stream",
     "text": [
      "QUESTION:  List some topics to learn in databases\n",
      "Database design, SQL, data modeling, normalization, indexing, transactions, query optimization, and database administration.\n",
      "Time taken:  3.059077024459839\n",
      "\n",
      "\n",
      "\n"
     ]
    },
    {
     "name": "stderr",
     "output_type": "stream",
     "text": [
      "/Users/swetavooda/workspace/langCache/langcache/langcache-venv/lib/python3.11/site-packages/sentence_transformers/SentenceTransformer.py:157: FutureWarning: Series.__getitem__ treating keys as positions is deprecated. In a future version, integer keys will always be treated as labels (consistent with DataFrame behavior). To access a value by position, use `ser.iloc[pos]`\n",
      "  sentences_sorted = [sentences[idx] for idx in length_sorted_idx]\n"
     ]
    },
    {
     "name": "stdout",
     "output_type": "stream",
     "text": [
      "TUNE FREQUENCY =  7\n",
      "THRESHOLD =  0.3983773717880249\n",
      "CACHE-HIT\n",
      "CACHE_HIT\n",
      "QUESTION:  Can you tell me what Github is?\n",
      "GitHub is a web-based platform for version control and collaboration used for software development.\n",
      "Time taken:  0.6811132431030273\n",
      "\n",
      "\n",
      "\n"
     ]
    },
    {
     "name": "stderr",
     "output_type": "stream",
     "text": [
      "/Users/swetavooda/workspace/langCache/langcache/langcache-venv/lib/python3.11/site-packages/sentence_transformers/SentenceTransformer.py:157: FutureWarning: Series.__getitem__ treating keys as positions is deprecated. In a future version, integer keys will always be treated as labels (consistent with DataFrame behavior). To access a value by position, use `ser.iloc[pos]`\n",
      "  sentences_sorted = [sentences[idx] for idx in length_sorted_idx]\n"
     ]
    },
    {
     "name": "stdout",
     "output_type": "stream",
     "text": [
      "TUNE FREQUENCY =  8\n",
      "THRESHOLD =  0.3983773717880249\n",
      "CACHE_MISS\n",
      "CACHE_MISS\n"
     ]
    },
    {
     "name": "stderr",
     "output_type": "stream",
     "text": [
      "11-25-2023 21:33:42 WARNING[create_index_executor:create_index_executor.py:_create_evadb_index:0119] Index ehmbsglyip already exists. It will be updated on existing table.\n",
      "/Users/swetavooda/workspace/langCache/langcache/langcache-venv/lib/python3.11/site-packages/sentence_transformers/SentenceTransformer.py:157: FutureWarning: Series.__getitem__ treating keys as positions is deprecated. In a future version, integer keys will always be treated as labels (consistent with DataFrame behavior). To access a value by position, use `ser.iloc[pos]`\n",
      "  sentences_sorted = [sentences[idx] for idx in length_sorted_idx]\n"
     ]
    },
    {
     "name": "stdout",
     "output_type": "stream",
     "text": [
      "QUESTION:  How I can speak English fluently?\n",
      "Practice speaking with native speakers, watch English movies, listen to podcasts, and use language learning apps.\n",
      "Time taken:  2.8163299560546875\n",
      "\n",
      "\n",
      "\n"
     ]
    },
    {
     "name": "stderr",
     "output_type": "stream",
     "text": [
      "/Users/swetavooda/workspace/langCache/langcache/langcache-venv/lib/python3.11/site-packages/sentence_transformers/SentenceTransformer.py:157: FutureWarning: Series.__getitem__ treating keys as positions is deprecated. In a future version, integer keys will always be treated as labels (consistent with DataFrame behavior). To access a value by position, use `ser.iloc[pos]`\n",
      "  sentences_sorted = [sentences[idx] for idx in length_sorted_idx]\n"
     ]
    },
    {
     "name": "stdout",
     "output_type": "stream",
     "text": [
      "TUNE FREQUENCY =  9\n",
      "THRESHOLD =  0.3983773717880249\n",
      "CACHE-HIT\n",
      "CACHE_HIT\n",
      "QUESTION:  How can I learn to speak English fluently?\n",
      "Practice speaking with native speakers, watch English movies, listen to podcasts, and use language learning apps.\n",
      "Time taken:  0.6893711090087891\n",
      "\n",
      "\n",
      "\n"
     ]
    },
    {
     "name": "stderr",
     "output_type": "stream",
     "text": [
      "/Users/swetavooda/workspace/langCache/langcache/langcache-venv/lib/python3.11/site-packages/sentence_transformers/SentenceTransformer.py:157: FutureWarning: Series.__getitem__ treating keys as positions is deprecated. In a future version, integer keys will always be treated as labels (consistent with DataFrame behavior). To access a value by position, use `ser.iloc[pos]`\n",
      "  sentences_sorted = [sentences[idx] for idx in length_sorted_idx]\n"
     ]
    },
    {
     "name": "stdout",
     "output_type": "stream",
     "text": [
      "TUNE FREQUENCY =  10\n",
      "***DYNAMIC TUNING OF THRESHOLD***\n",
      "THRESHOLD =  0.3983773717880249\n",
      "CACHE_MISS\n",
      "CACHE_MISS\n"
     ]
    },
    {
     "name": "stderr",
     "output_type": "stream",
     "text": [
      "11-25-2023 21:33:47 WARNING[create_index_executor:create_index_executor.py:_create_evadb_index:0119] Index ehmbsglyip already exists. It will be updated on existing table.\n",
      "/Users/swetavooda/workspace/langCache/langcache/langcache-venv/lib/python3.11/site-packages/sentence_transformers/SentenceTransformer.py:157: FutureWarning: Series.__getitem__ treating keys as positions is deprecated. In a future version, integer keys will always be treated as labels (consistent with DataFrame behavior). To access a value by position, use `ser.iloc[pos]`\n",
      "  sentences_sorted = [sentences[idx] for idx in length_sorted_idx]\n"
     ]
    },
    {
     "name": "stdout",
     "output_type": "stream",
     "text": [
      "QUESTION:  How does 3D printing work?\n",
      "3D printing works by layering materials to create three-dimensional objects based on digital designs.\n",
      "Time taken:  4.351581811904907\n",
      "\n",
      "\n",
      "\n",
      "TUNE FREQUENCY =  11\n",
      "THRESHOLD =  0.3983773717880249\n",
      "CACHE-HIT\n",
      "CACHE_HIT\n",
      "QUESTION:  How do 3D printing work?\n",
      "3D printing works by layering materials to create three-dimensional objects based on digital designs.\n",
      "Time taken:  0.6618008613586426\n",
      "\n",
      "\n",
      "\n"
     ]
    },
    {
     "name": "stderr",
     "output_type": "stream",
     "text": [
      "/Users/swetavooda/workspace/langCache/langcache/langcache-venv/lib/python3.11/site-packages/sentence_transformers/SentenceTransformer.py:157: FutureWarning: Series.__getitem__ treating keys as positions is deprecated. In a future version, integer keys will always be treated as labels (consistent with DataFrame behavior). To access a value by position, use `ser.iloc[pos]`\n",
      "  sentences_sorted = [sentences[idx] for idx in length_sorted_idx]\n"
     ]
    }
   ],
   "source": [
    "import time\n",
    "from langcache.adapter.openai import OpenAI\n",
    "from langcache.core import Cache\n",
    "\n",
    "cache = Cache(tune_frequency=5, tune_policy=\"recall\")\n",
    "client = OpenAI(cache)\n",
    "\n",
    "results = []\n",
    "questions = [\"What is GitHub?\", \n",
    "             \"what are the most important concepts in databases\", \n",
    "             \"can you explain what GitHub is\", \"What is GitHub?\", \n",
    "             \"what is the purpose of GitHub\", \"What's github\", \n",
    "             \"What are the important topics to learn in databases?\", \n",
    "             \"List some topics to learn in databases\",\n",
    "             \"Can you tell me what Github is?\",\n",
    "             \"How I can speak English fluently?\",\n",
    "             \"How can I learn to speak English fluently?\",\n",
    "             \"How does 3D printing work?\",\n",
    "             \"How do 3D printing work?\"]\n",
    "for i in range(0,len(questions)):\n",
    "  start_time = time.time()\n",
    "  completion = client.chat.completions.create(\n",
    "    model=\"gpt-3.5-turbo\",\n",
    "    messages=[\n",
    "      {\"role\": \"system\", \"content\":\"You are an helpful assistant to answer all my questions within 15 words limit\"},\n",
    "      {\"role\": \"user\", \"content\": questions[i]}\n",
    "    ]\n",
    "  )\n",
    "  end_time = time.time()\n",
    "  print(\"QUESTION: \", questions[i])\n",
    "  print(completion)\n",
    "  print(\"Time taken: \", end_time-start_time)\n",
    "  print(\"\\n\\n\")\n",
    "  results.append(completion)\n",
    "  \n"
   ]
  }
 ],
 "metadata": {
  "kernelspec": {
   "display_name": "langcache-venv",
   "language": "python",
   "name": "python3"
  },
  "language_info": {
   "codemirror_mode": {
    "name": "ipython",
    "version": 3
   },
   "file_extension": ".py",
   "mimetype": "text/x-python",
   "name": "python",
   "nbconvert_exporter": "python",
   "pygments_lexer": "ipython3",
   "version": "3.11.6"
  },
  "orig_nbformat": 4
 },
 "nbformat": 4,
 "nbformat_minor": 2
}
